{
 "cells": [
  {
   "cell_type": "code",
   "execution_count": 1,
   "metadata": {},
   "outputs": [],
   "source": [
    "import pandas as pd\n",
    "import numpy as np"
   ]
  },
  {
   "cell_type": "code",
   "execution_count": 2,
   "metadata": {},
   "outputs": [
    {
     "name": "stdout",
     "output_type": "stream",
     "text": [
      "Empty DataFrame\n",
      "Columns: [target, 0, 1, 2, 3, 4, 5, 6, 7, 8, 9, 10, 11, 12, 13, 14, 15, 16, 17, 18, 19, 20, 21, 22, 23, 24, 25, 26, 27, 28, 29, 30, 31, 32, 33, 34, 35, 36, 37, 38, 39, 40, 41, 42, 43, 44, 45, 46, 47, 48, 49, 50, 51, 52, 53, 54, 55, 56, 57, 58, 59, 60, 61, 62, 63, 64, 65, 66, 67, 68, 69, 70, 71, 72, 73, 74, 75, 76, 77, 78, 79, 80, 81, 82, 83, 84, 85, 86, 87, 88, 89, 90, 91, 92, 93, 94, 95, 96, 97, 98, ...]\n",
      "Index: []\n",
      "\n",
      "[0 rows x 301 columns]\n"
     ]
    }
   ],
   "source": [
    "train_csv = pd.read_csv('train.csv')\n",
    "train = train_csv.drop(columns='id')\n",
    "print(train.head(0))\n"
   ]
  },
  {
   "cell_type": "code",
   "execution_count": 3,
   "metadata": {},
   "outputs": [
    {
     "name": "stdout",
     "output_type": "stream",
     "text": [
      "(250, 300)\n",
      "(250,)\n",
      "[1. 0. 1. 1. 1. 1. 1. 1. 1. 1. 0. 1. 1. 0. 0. 1. 1. 0. 1. 1. 1. 1. 0. 1.\n",
      " 1. 1. 1. 1. 1. 1. 1. 1. 1. 1. 1. 1. 1. 1. 0. 1. 1. 1. 1. 0. 1. 1. 1. 1.\n",
      " 0. 0. 1. 1. 0. 1. 0. 1. 0. 1. 0. 0. 1. 1. 0. 0. 0. 1. 0. 1. 1. 1. 0. 1.\n",
      " 1. 1. 1. 0. 1. 1. 0. 1. 1. 0. 0. 1. 1. 1. 0. 1. 1. 1. 1. 0. 1. 1. 1. 1.\n",
      " 0. 1. 1. 1. 1. 0. 0. 1. 0. 1. 1. 0. 0. 1. 1. 1. 1. 1. 0. 1. 1. 0. 0. 1.\n",
      " 0. 1. 0. 1. 0. 1. 0. 0. 0. 1. 1. 1. 1. 1. 0. 1. 0. 1. 1. 0. 1. 0. 1. 0.\n",
      " 1. 1. 1. 1. 0. 1. 0. 1. 1. 0. 0. 1. 1. 0. 0. 1. 1. 0. 1. 1. 0. 1. 1. 1.\n",
      " 0. 0. 0. 0. 0. 1. 1. 1. 1. 0. 0. 1. 1. 0. 0. 0. 1. 1. 1. 1. 1. 0. 1. 1.\n",
      " 1. 0. 0. 1. 1. 1. 0. 1. 1. 0. 1. 1. 1. 0. 1. 0. 1. 0. 0. 0. 0. 1. 1. 0.\n",
      " 1. 1. 0. 1. 1. 1. 1. 1. 1. 0. 1. 0. 0. 1. 1. 1. 1. 0. 0. 1. 1. 1. 1. 0.\n",
      " 0. 1. 1. 0. 0. 0. 0. 0. 1. 0.]\n"
     ]
    }
   ],
   "source": [
    "X = np.array(train.drop(columns = 'target').values.tolist())\n",
    "y = np.array(train['target'].values.tolist())\n",
    "print(X.shape)\n",
    "print(y.shape)\n",
    "\n",
    "print(y)"
   ]
  },
  {
   "cell_type": "code",
   "execution_count": 4,
   "metadata": {},
   "outputs": [],
   "source": [
    "from sklearn.model_selection import train_test_split\n",
    "from sklearn import preprocessing\n",
    "from sklearn.preprocessing import StandardScaler\n"
   ]
  },
  {
   "cell_type": "code",
   "execution_count": 5,
   "metadata": {},
   "outputs": [],
   "source": [
    "X_train, X_test, y_train, y_test = train_test_split(X, y, test_size=0.5)\n",
    "\n",
    "X_s = preprocessing.StandardScaler().fit(X).transform(X)\n",
    "X_s_train, X_s_test, y_s_train, y_s_test = train_test_split(X_s, y, test_size=0.5)\n",
    "\n",
    "X_n = preprocessing.Normalizer().fit(X).transform(X)\n",
    "X_n_train, X_n_test, y_n_train, y_n_test = train_test_split(X_n, y, test_size=0.5)"
   ]
  },
  {
   "cell_type": "code",
   "execution_count": 6,
   "metadata": {},
   "outputs": [],
   "source": [
    "from sklearn import tree\n",
    "from sklearn.model_selection import cross_val_score\n",
    "from sklearn import svm\n",
    "from sklearn.neural_network import MLPClassifier\n",
    "from sklearn.linear_model import SGDClassifier\n",
    "from sklearn.neighbors import (KNeighborsClassifier,NeighborhoodComponentsAnalysis)"
   ]
  },
  {
   "cell_type": "code",
   "execution_count": 7,
   "metadata": {},
   "outputs": [
    {
     "name": "stdout",
     "output_type": "stream",
     "text": [
      "[0.48 0.68 0.48 0.44 0.56]\n",
      "mean of raw dataset= 0.528\n",
      "[0.68 0.6  0.6  0.68 0.48]\n",
      "mean of standardized dataset= 0.608\n",
      "[0.68 0.72 0.52 0.52 0.44]\n",
      "mean of normalized dataset= 0.576\n"
     ]
    }
   ],
   "source": [
    "clf_tree = tree.DecisionTreeClassifier()\n",
    "clf_raw = clf_tree.fit(X_train, y_train)\n",
    "clf_s = clf_tree.fit(X_s_train,y_s_train)\n",
    "clf_n = clf_tree.fit(X_n_train,y_n_train)\n",
    "\n",
    "scores_raw = cross_val_score(clf_raw, X_test, y_test, cv=5)\n",
    "scores_s = cross_val_score(clf_s, X_s_test, y_s_test, cv=5)\n",
    "scores_n = cross_val_score(clf_n, X_n_test, y_n_test, cv=5)\n",
    "\n",
    "print(scores_raw)\n",
    "print(\"mean of raw dataset=\",scores_raw.mean())\n",
    "print(scores_s)\n",
    "print(\"mean of standardized dataset=\",scores_s.mean())\n",
    "print(scores_n)\n",
    "print(\"mean of normalized dataset=\",scores_n.mean())\n"
   ]
  },
  {
   "cell_type": "code",
   "execution_count": 8,
   "metadata": {},
   "outputs": [],
   "source": [
    "X_train, X_test, y_train, y_test = X_s_train, X_s_test, y_s_train, y_s_test"
   ]
  },
  {
   "cell_type": "code",
   "execution_count": 9,
   "metadata": {},
   "outputs": [],
   "source": [
    "clf_tree = tree.DecisionTreeClassifier()\n",
    "clf_svm = svm.SVC()\n",
    "clf_sgd = SGDClassifier(loss='log')\n",
    "clf_knn = KNeighborsClassifier(n_neighbors=1)\n",
    "clf_mlp = MLPClassifier()"
   ]
  },
  {
   "cell_type": "code",
   "execution_count": 10,
   "metadata": {},
   "outputs": [
    {
     "name": "stdout",
     "output_type": "stream",
     "text": [
      "DecisionTreeClassifier()\n",
      "[0.64 0.64 0.52 0.6  0.32]\n",
      "mean= 0.5439999999999999\n",
      "SVC()\n",
      "[0.6  0.6  0.6  0.64 0.64]\n",
      "mean= 0.616\n",
      "SGDClassifier(loss='log')\n",
      "[0.64 0.68 0.52 0.6  0.76]\n",
      "mean= 0.64\n",
      "KNeighborsClassifier(n_neighbors=1)\n",
      "[0.48 0.64 0.52 0.64 0.68]\n",
      "mean= 0.5920000000000001\n",
      "MLPClassifier()\n",
      "[0.6  0.52 0.6  0.56 0.76]\n",
      "mean= 0.608\n"
     ]
    }
   ],
   "source": [
    "clf_tree = clf_tree.fit(X_train, y_train)\n",
    "clf_svm = clf_svm.fit(X_train, y_train)\n",
    "clf_sgd = clf_sgd.fit(X_train, y_train)\n",
    "clf_knn = clf_knn.fit(X_train, y_train)\n",
    "clf_mlp = clf_mlp.fit(X_train, y_train)\n",
    "\n",
    "scores_tree = cross_val_score(clf_tree, X_test, y_test, cv=5)\n",
    "scores_svm = cross_val_score(clf_svm, X_test, y_test, cv=5)\n",
    "scores_sgd = cross_val_score(clf_sgd, X_test, y_test, cv=5)\n",
    "scores_knn = cross_val_score(clf_knn, X_test, y_test, cv=5)\n",
    "scores_mlp = cross_val_score(clf_mlp, X_test, y_test, cv=5)\n",
    "\n",
    "print(clf_tree)\n",
    "print(scores_tree)\n",
    "print(\"mean=\",scores_tree.mean())\n",
    "\n",
    "print(clf_svm)\n",
    "print(scores_svm)\n",
    "print(\"mean=\",scores_svm.mean())\n",
    "\n",
    "print(clf_sgd)\n",
    "print(scores_sgd)\n",
    "print(\"mean=\",scores_sgd.mean())\n",
    "\n",
    "print(clf_knn)\n",
    "print(scores_knn)\n",
    "print(\"mean=\",scores_knn.mean())\n",
    "\n",
    "print(clf_mlp)\n",
    "print(scores_mlp)\n",
    "print(\"mean=\",scores_mlp.mean())\n",
    "\n",
    "\n"
   ]
  },
  {
   "cell_type": "code",
   "execution_count": 11,
   "metadata": {},
   "outputs": [],
   "source": [
    "clf_tree = tree.DecisionTreeClassifier()\n",
    "clf_tree = clf_tree.fit(X_train, y_train)"
   ]
  },
  {
   "cell_type": "code",
   "execution_count": 12,
   "metadata": {},
   "outputs": [
    {
     "name": "stdout",
     "output_type": "stream",
     "text": [
      "0.712 {'C': 1, 'kernel': 'sigmoid'}\n"
     ]
    }
   ],
   "source": [
    "from sklearn.model_selection import GridSearchCV\n",
    "parameters = {'kernel':('linear', 'poly', 'rbf', 'sigmoid'), 'C':[0.001, 0.01, 0.1, 1, 10, 100, 1000]}\n",
    "svc = svm.SVC()\n",
    "clf = GridSearchCV(svc, parameters)\n",
    "clf.fit(X_train, y_train)\n",
    "print(clf.best_score_, clf.best_params_)\n"
   ]
  },
  {
   "cell_type": "code",
   "execution_count": 13,
   "metadata": {},
   "outputs": [
    {
     "name": "stdout",
     "output_type": "stream",
     "text": [
      "0.616 {'n_neighbors': 7}\n"
     ]
    }
   ],
   "source": [
    "parameters = {'n_neighbors':(1,2,3,4,5,6,7,8,9,10)}\n",
    "clf_knn = KNeighborsClassifier()\n",
    "clf = GridSearchCV(clf_knn, parameters)\n",
    "clf.fit(X_train, y_train)\n",
    "print(clf.best_score_, clf.best_params_)\n"
   ]
  },
  {
   "cell_type": "code",
   "execution_count": 14,
   "metadata": {},
   "outputs": [
    {
     "name": "stdout",
     "output_type": "stream",
     "text": [
      "0.656 {'activation': 'relu', 'hidden_layer_sizes': 6}\n"
     ]
    }
   ],
   "source": [
    "parameters = {'activation':('identity', 'logistic', 'tanh', 'relu'),'hidden_layer_sizes':(3,4,5,6,7,8,9,10,11,12,13,14,15)}\n",
    "clf_mlp = MLPClassifier(max_iter=10000 )\n",
    "clf = GridSearchCV(clf_mlp, parameters)\n",
    "clf.fit(X_train, y_train)\n",
    "print(clf.best_score_, clf.best_params_)"
   ]
  },
  {
   "cell_type": "code",
   "execution_count": 17,
   "metadata": {},
   "outputs": [
    {
     "name": "stdout",
     "output_type": "stream",
     "text": [
      "0.688 {'max_depth': 3, 'n_estimators': 110}\n"
     ]
    }
   ],
   "source": [
    "from sklearn.ensemble import RandomForestClassifier\n",
    "\n",
    "parameters = {'max_depth':(2,3,4,5),'n_estimators':(80, 90, 100, 110, 120)}\n",
    "clf = RandomForestClassifier()\n",
    "clf = GridSearchCV(clf, parameters)\n",
    "clf.fit(X_train, y_train)\n",
    "print(clf.best_score_, clf.best_params_)"
   ]
  },
  {
   "cell_type": "code",
   "execution_count": 31,
   "metadata": {},
   "outputs": [
    {
     "name": "stdout",
     "output_type": "stream",
     "text": [
      "0.68 {'loss': 'modified_huber'}\n"
     ]
    }
   ],
   "source": [
    "parameters = {'loss':('hinge', 'log', 'modified_huber', 'perceptron')}\n",
    "clf = SGDClassifier()\n",
    "clf = GridSearchCV(clf, parameters)\n",
    "clf.fit(X_train, y_train)\n",
    "print(clf.best_score_, clf.best_params_)"
   ]
  },
  {
   "cell_type": "code",
   "execution_count": 34,
   "metadata": {},
   "outputs": [],
   "source": [
    "from sklearn.pipeline import Pipeline\n",
    "from sklearn.feature_selection import SelectFromModel\n",
    "\n",
    "from sklearn.ensemble import VotingClassifier\n",
    "from sklearn.svm import LinearSVC\n",
    "\n",
    "clf_rf =  RandomForestClassifier(max_depth=3, n_estimators= 110)\n",
    "clf_svm = svm.SVC(kernel='sigmoid',probability=True)\n",
    "clf_sgd =  SGDClassifier(loss='modified_huber')\n",
    "\n",
    "\"\"\"\n",
    "clf_knn = Pipeline([\n",
    "  ('feature_selection', SelectFromModel(LinearSVC(penalty=\"l1\",dual=False, max_iter=10000))),\n",
    "  ('knn',KNeighborsClassifier(n_neighbors=7))\n",
    "])\n",
    "clf_mlp = Pipeline([\n",
    "  ('feature_selection', SelectFromModel(LinearSVC(penalty=\"l1\",dual=False, max_iter=10000))),\n",
    "  ('MLP', MLPClassifier(hidden_layer_sizes=6, max_iter=10000 ))\n",
    "])\n",
    "clf_knn = clf_knn.fit(X_train, y_train)\n",
    "clf_mlp = clf_mlp.fit(X_train, y_train)\n",
    "\"\"\"\n",
    "\n",
    "eclf = VotingClassifier(estimators=[('rf', clf_rf),('svm', clf_svm), ('sgd', clf_sgd)], voting='soft')\n",
    "clf_rf = clf_rf.fit(X_train, y_train)\n",
    "clf_svm = clf_svm.fit(X_train, y_train)\n",
    "clf_sgd = clf_sgd.fit(X_train, y_train)\n",
    "\n",
    "eclf = eclf.fit(X_train, y_train)\n"
   ]
  },
  {
   "cell_type": "code",
   "execution_count": 35,
   "metadata": {},
   "outputs": [],
   "source": [
    "scaler = StandardScaler()\n",
    "\n",
    "csv = pd.read_csv(\"test.csv\")\n",
    "x = pd.DataFrame(scaler.fit_transform(csv.drop([\"id\"], axis = 1)))\n",
    "\n",
    "y_pred = pd.DataFrame({\"ID\": csv[\"id\"], \"Target\": eclf.predict(x)})\n",
    "y_pred.to_csv(\"submission.csv\", index = False)"
   ]
  }
 ],
 "metadata": {
  "interpreter": {
   "hash": "9fb7d8473542c2253b0c4cef5ee22a12ea1ae14de980fa20b301bac64011678e"
  },
  "kernelspec": {
   "display_name": "Python 3.8.8 ('base')",
   "language": "python",
   "name": "python3"
  },
  "language_info": {
   "codemirror_mode": {
    "name": "ipython",
    "version": 3
   },
   "file_extension": ".py",
   "mimetype": "text/x-python",
   "name": "python",
   "nbconvert_exporter": "python",
   "pygments_lexer": "ipython3",
   "version": "3.8.8"
  },
  "orig_nbformat": 4
 },
 "nbformat": 4,
 "nbformat_minor": 2
}
